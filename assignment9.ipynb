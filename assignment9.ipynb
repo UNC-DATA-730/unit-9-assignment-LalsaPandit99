{
 "cells": [
  {
   "cell_type": "markdown",
   "id": "fe67a362-1670-4664-8c82-116e35bda7bb",
   "metadata": {},
   "source": [
    "**Relevant reading for this problem set**:\n",
    "<a href=\"https://moderndive.com/9-hypothesis-testing.html\"\n",
    "target=\"_blank\">ModernDive Chapter 9: Hypothesis Testing</a>."
   ]
  },
  {
   "cell_type": "markdown",
   "id": "a2c81b92-efa7-4f83-a059-a0081900ee4e",
   "metadata": {},
   "source": [
    "First load the necessary packages:"
   ]
  },
  {
   "cell_type": "code",
   "execution_count": 1,
   "id": "ea87212e-636e-469a-bb9a-717ff7ae825e",
   "metadata": {
    "tags": []
   },
   "outputs": [
    {
     "name": "stderr",
     "output_type": "stream",
     "text": [
      "Warning message:\n",
      "“Your system is mis-configured: ‘/var/db/timezone/localtime’ is not a symlink”\n",
      "Warning message:\n",
      "“‘/var/db/timezone/localtime’ is not identical to any known timezone file”\n",
      "── \u001b[1mAttaching core tidyverse packages\u001b[22m ──────────────────────── tidyverse 2.0.0 ──\n",
      "\u001b[32m✔\u001b[39m \u001b[34mdplyr    \u001b[39m 1.1.4     \u001b[32m✔\u001b[39m \u001b[34mreadr    \u001b[39m 2.1.5\n",
      "\u001b[32m✔\u001b[39m \u001b[34mforcats  \u001b[39m 1.0.0     \u001b[32m✔\u001b[39m \u001b[34mstringr  \u001b[39m 1.5.1\n",
      "\u001b[32m✔\u001b[39m \u001b[34mggplot2  \u001b[39m 3.5.1     \u001b[32m✔\u001b[39m \u001b[34mtibble   \u001b[39m 3.2.1\n",
      "\u001b[32m✔\u001b[39m \u001b[34mlubridate\u001b[39m 1.9.3     \u001b[32m✔\u001b[39m \u001b[34mtidyr    \u001b[39m 1.3.1\n",
      "\u001b[32m✔\u001b[39m \u001b[34mpurrr    \u001b[39m 1.0.2     \n",
      "── \u001b[1mConflicts\u001b[22m ────────────────────────────────────────── tidyverse_conflicts() ──\n",
      "\u001b[31m✖\u001b[39m \u001b[34mdplyr\u001b[39m::\u001b[32mfilter()\u001b[39m masks \u001b[34mstats\u001b[39m::filter()\n",
      "\u001b[31m✖\u001b[39m \u001b[34mdplyr\u001b[39m::\u001b[32mlag()\u001b[39m    masks \u001b[34mstats\u001b[39m::lag()\n",
      "\u001b[36mℹ\u001b[39m Use the conflicted package (\u001b[3m\u001b[34m<http://conflicted.r-lib.org/>\u001b[39m\u001b[23m) to force all conflicts to become errors\n"
     ]
    }
   ],
   "source": [
    "library('tidyverse')\n",
    "library('infer')"
   ]
  },
  {
   "cell_type": "markdown",
   "id": "7f622954-509a-4009-961b-417a61f5b2de",
   "metadata": {},
   "source": [
    "For this Problem Set you will work with some grade-point-average (GPA)\n",
    "data for college freshman. The following will read in the data:"
   ]
  },
  {
   "cell_type": "code",
   "execution_count": 2,
   "id": "6c1ee55a-cbbd-4f35-a0df-55a6bf8a71ef",
   "metadata": {
    "tags": []
   },
   "outputs": [
    {
     "name": "stderr",
     "output_type": "stream",
     "text": [
      "\u001b[1m\u001b[22mNew names:\n",
      "\u001b[36m•\u001b[39m `` -> `...1`\n"
     ]
    },
    {
     "data": {
      "text/html": [
       "<style>\n",
       ".list-inline {list-style: none; margin:0; padding: 0}\n",
       ".list-inline>li {display: inline-block}\n",
       ".list-inline>li:not(:last-child)::after {content: \"\\00b7\"; padding: 0 .5ex}\n",
       "</style>\n",
       "<ol class=list-inline><li>'sex'</li><li>'sat_verbal'</li><li>'sat_math'</li><li>'sat_total'</li><li>'gpa_hs'</li><li>'gpa_fy'</li></ol>\n"
      ],
      "text/latex": [
       "\\begin{enumerate*}\n",
       "\\item 'sex'\n",
       "\\item 'sat\\_verbal'\n",
       "\\item 'sat\\_math'\n",
       "\\item 'sat\\_total'\n",
       "\\item 'gpa\\_hs'\n",
       "\\item 'gpa\\_fy'\n",
       "\\end{enumerate*}\n"
      ],
      "text/markdown": [
       "1. 'sex'\n",
       "2. 'sat_verbal'\n",
       "3. 'sat_math'\n",
       "4. 'sat_total'\n",
       "5. 'gpa_hs'\n",
       "6. 'gpa_fy'\n",
       "\n",
       "\n"
      ],
      "text/plain": [
       "[1] \"sex\"        \"sat_verbal\" \"sat_math\"   \"sat_total\"  \"gpa_hs\"    \n",
       "[6] \"gpa_fy\"    "
      ]
     },
     "metadata": {},
     "output_type": "display_data"
    },
    {
     "name": "stdout",
     "output_type": "stream",
     "text": [
      "Rows: 1,000\n",
      "Columns: 6\n",
      "$ sex        \u001b[3m\u001b[90m<chr>\u001b[39m\u001b[23m \"Male\", \"Female\", \"Female\", \"Male\", \"Male\", \"Female\", \"Male…\n",
      "$ sat_verbal \u001b[3m\u001b[90m<dbl>\u001b[39m\u001b[23m 65, 58, 56, 42, 55, 55, 57, 53, 67, 41, 58, 45, 43, 50, 54,…\n",
      "$ sat_math   \u001b[3m\u001b[90m<dbl>\u001b[39m\u001b[23m 62, 64, 60, 53, 52, 56, 65, 62, 77, 44, 70, 57, 45, 58, 66,…\n",
      "$ sat_total  \u001b[3m\u001b[90m<dbl>\u001b[39m\u001b[23m 127, 122, 116, 95, 107, 111, 122, 115, 144, 85, 128, 102, 8…\n",
      "$ gpa_hs     \u001b[3m\u001b[90m<chr>\u001b[39m\u001b[23m \"high\", \"high\", \"high\", \"high\", \"high\", \"high\", \"low\", \"hig…\n",
      "$ gpa_fy     \u001b[3m\u001b[90m<dbl>\u001b[39m\u001b[23m 3.18, 3.33, 3.25, 2.42, 2.63, 2.91, 2.83, 2.51, 3.82, 2.54,…\n"
     ]
    }
   ],
   "source": [
    "sat_gpa = read_csv(\"https://rudeboybert.github.io/SDS220/static/PS/sat_gpa.csv\", col_types = cols(), col_select = c(-1))\n",
    "\n",
    "colnames(sat_gpa)\n",
    "\n",
    "sat_gpa |> glimpse()"
   ]
  },
  {
   "cell_type": "code",
   "execution_count": 3,
   "id": "29eea38b-93e4-4e42-849b-c955b10cb241",
   "metadata": {
    "tags": []
   },
   "outputs": [],
   "source": [
    "#cleaning colums name\n",
    "\n",
    "sat_gpa <- sat_gpa %>%\n",
    "  rename(\n",
    "    sex = `sex`,\n",
    "    sat_verbal = `sat_verbal`,\n",
    "    sat_math = `sat_math`,\n",
    "    sat_total = `sat_total`,\n",
    "    gpa_hs = `gpa_hs`,\n",
    "    gpa_fy = `gpa_fy`\n",
    "  )\n"
   ]
  },
  {
   "cell_type": "code",
   "execution_count": 4,
   "id": "2924ff1f-9975-42bf-a942-040297baff56",
   "metadata": {
    "tags": []
   },
   "outputs": [
    {
     "name": "stdout",
     "output_type": "stream",
     "text": [
      "tibble [1,000 × 6] (S3: tbl_df/tbl/data.frame)\n",
      " $ sex       : chr [1:1000] \"Male\" \"Female\" \"Female\" \"Male\" ...\n",
      " $ sat_verbal: num [1:1000] 65 58 56 42 55 55 57 53 67 41 ...\n",
      " $ sat_math  : num [1:1000] 62 64 60 53 52 56 65 62 77 44 ...\n",
      " $ sat_total : num [1:1000] 127 122 116 95 107 111 122 115 144 85 ...\n",
      " $ gpa_hs    : chr [1:1000] \"high\" \"high\" \"high\" \"high\" ...\n",
      " $ gpa_fy    : num [1:1000] 3.18 3.33 3.25 2.42 2.63 2.91 2.83 2.51 3.82 2.54 ...\n",
      " - attr(*, \"spec\")=\n",
      "  .. cols(\n",
      "  ..   ...1 = col_skip(),\n",
      "  ..   sex = \u001b[31mcol_character()\u001b[39m,\n",
      "  ..   sat_verbal = \u001b[32mcol_double()\u001b[39m,\n",
      "  ..   sat_math = \u001b[32mcol_double()\u001b[39m,\n",
      "  ..   sat_total = \u001b[32mcol_double()\u001b[39m,\n",
      "  ..   gpa_hs = \u001b[31mcol_character()\u001b[39m,\n",
      "  ..   gpa_fy = \u001b[32mcol_double()\u001b[39m\n",
      "  .. )\n"
     ]
    },
    {
     "name": "stderr",
     "output_type": "stream",
     "text": [
      "Warning message:\n",
      "“\u001b[1m\u001b[22mThere was 1 warning in `mutate()`.\n",
      "\u001b[1m\u001b[22m\u001b[36mℹ\u001b[39m In argument: `gpa_hs = as.numeric(gpa_hs)`.\n",
      "Caused by warning:\n",
      "\u001b[33m!\u001b[39m NAs introduced by coercion”\n"
     ]
    }
   ],
   "source": [
    "#checking the data type\n",
    "str(sat_gpa)\n",
    "\n",
    "#converting then to numeric\n",
    "\n",
    "sat_gpa <- sat_gpa %>%\n",
    "  mutate(\n",
    "    gpa_hs = as.numeric(gpa_hs),\n",
    "    gpa_fy = as.numeric(gpa_fy)\n",
    "  )\n"
   ]
  },
  {
   "cell_type": "markdown",
   "id": "9225e401-d91a-4271-b5bf-e665b628c731",
   "metadata": {},
   "source": [
    "Each row or case in this data frame is a student. The data includes:\n",
    "\n",
    "-   the (binary) gender of each student\n",
    "-   the math, verbal and total SAT scores for each student\n",
    "-   the GPA range of each student in high school (categorized as “low”\n",
    "    or “high”)\n",
    "-   the GPA of each student their first year of college on a numeric\n",
    "    scale.\n",
    "\n",
    "We will use hypothesis testing to answer the following questions:\n",
    "\n",
    "1.  Is there a difference in male and female freshman GPAs?\n",
    "2.  Is there a difference in total SAT score for students with a “low”\n",
    "    and “high” high-school GPA?\n",
    "\n",
    "Note, if you get stuck as you are working through this, it will be\n",
    "helpful to review Chapter 9 in ModernDive."
   ]
  },
  {
   "cell_type": "markdown",
   "id": "9f92af32-b0cf-40ab-b24a-3de2b1ac2ea4",
   "metadata": {},
   "source": [
    "## Question 1: Gender differences in first-year GPA?\n",
    "\n",
    "For this question, let’s use a pre-determined $\\alpha$\n",
    "significance-level of 0.05."
   ]
  },
  {
   "cell_type": "markdown",
   "id": "72a83931-3db6-4889-a7bb-22294b6be924",
   "metadata": {},
   "source": [
    "## Q1.a)\n",
    "\n",
    "Calculate the mean GPA score for each gender, using the `group_by` and\n",
    "`summarize` commands from the `dplyr` package."
   ]
  },
  {
   "cell_type": "code",
   "execution_count": 5,
   "id": "bb4f463d-0010-4ae6-b40c-69be81c698e8",
   "metadata": {
    "tags": []
   },
   "outputs": [
    {
     "data": {
      "text/html": [
       "<table class=\"dataframe\">\n",
       "<caption>A tibble: 2 × 2</caption>\n",
       "<thead>\n",
       "\t<tr><th scope=col>sex</th><th scope=col>mean_gpa</th></tr>\n",
       "\t<tr><th scope=col>&lt;chr&gt;</th><th scope=col>&lt;dbl&gt;</th></tr>\n",
       "</thead>\n",
       "<tbody>\n",
       "\t<tr><td>Female</td><td>2.544587</td></tr>\n",
       "\t<tr><td>Male  </td><td>2.396066</td></tr>\n",
       "</tbody>\n",
       "</table>\n"
      ],
      "text/latex": [
       "A tibble: 2 × 2\n",
       "\\begin{tabular}{ll}\n",
       " sex & mean\\_gpa\\\\\n",
       " <chr> & <dbl>\\\\\n",
       "\\hline\n",
       "\t Female & 2.544587\\\\\n",
       "\t Male   & 2.396066\\\\\n",
       "\\end{tabular}\n"
      ],
      "text/markdown": [
       "\n",
       "A tibble: 2 × 2\n",
       "\n",
       "| sex &lt;chr&gt; | mean_gpa &lt;dbl&gt; |\n",
       "|---|---|\n",
       "| Female | 2.544587 |\n",
       "| Male   | 2.396066 |\n",
       "\n"
      ],
      "text/plain": [
       "  sex    mean_gpa\n",
       "1 Female 2.544587\n",
       "2 Male   2.396066"
      ]
     },
     "metadata": {},
     "output_type": "display_data"
    }
   ],
   "source": [
    "mean_gpa_by_sex <- sat_gpa |> \n",
    "  group_by(sex) |> \n",
    "  summarize(mean_gpa = mean(gpa_fy, na.rm = TRUE))\n",
    "\n",
    "mean_gpa_by_sex\n"
   ]
  },
  {
   "cell_type": "markdown",
   "id": "ee8939f6-1b00-45ee-9e83-9c47f63d138b",
   "metadata": {},
   "source": [
    "**Questions**:\n",
    "\n",
    "1.  What is the difference in sample mean GPA’s?\n",
    "2.  Make a guess: is this difference statistically significant?\n",
    "\n",
    "**Answers**:\n",
    "\n",
    "1. -0.148520885386636 \n",
    "2.  0.1485"
   ]
  },
  {
   "cell_type": "code",
   "execution_count": 6,
   "id": "21662c54-ece3-4182-a651-c2d5b1f63d99",
   "metadata": {
    "tags": []
   },
   "outputs": [
    {
     "data": {
      "text/html": [
       "-0.148520885386636"
      ],
      "text/latex": [
       "-0.148520885386636"
      ],
      "text/markdown": [
       "-0.148520885386636"
      ],
      "text/plain": [
       "[1] -0.1485209"
      ]
     },
     "metadata": {},
     "output_type": "display_data"
    }
   ],
   "source": [
    "# Question 1\n",
    "mean_difference <- diff(mean_gpa_by_sex$mean_gpa)\n",
    "mean_difference"
   ]
  },
  {
   "cell_type": "code",
   "execution_count": 7,
   "id": "269dbc26-ea89-4105-959d-07217fc6f5ce",
   "metadata": {
    "tags": []
   },
   "outputs": [
    {
     "data": {
      "text/plain": [
       "\n",
       "\tWelch Two Sample t-test\n",
       "\n",
       "data:  gpa_fy by sex\n",
       "t = 3.1768, df = 983.3, p-value = 0.001535\n",
       "alternative hypothesis: true difference in means between group Female and group Male is not equal to 0\n",
       "95 percent confidence interval:\n",
       " 0.05677744 0.24026433\n",
       "sample estimates:\n",
       "mean in group Female   mean in group Male \n",
       "            2.544587             2.396066 \n"
      ]
     },
     "metadata": {},
     "output_type": "display_data"
    }
   ],
   "source": [
    "#Question 2\n",
    "\n",
    "t_test_result <-t.test(gpa_fy ~ sex, data = sat_gpa)\n",
    "t_test_result\n",
    "                       "
   ]
  },
  {
   "cell_type": "markdown",
   "id": "2d52413e-9d39-4fb1-ab7a-8e5bea309435",
   "metadata": {},
   "source": [
    "Question 2\n",
    "\n",
    "This indicates that, on average, female students have a slightly higher GPA (by 0.1485) compared to male students.The p-value of 0.001535 is well below the significance level of 0.05. This means we can reject the null hypothesis and conclude that there is a statistically significant difference in GPA between male and female students. The 95% confidence interval for the difference in means is 0.05677744 and 0.24026433. This interval does not include 0, which supports the conclusion that there is a significant difference. The analysis suggests a statistically significant difference in GPA between male and female freshmen, with female students showing a slightly higher mean GPA.\n"
   ]
  },
  {
   "cell_type": "markdown",
   "id": "13e9ee4c-704e-4da6-a3f2-7e6cc19b3912",
   "metadata": {},
   "source": [
    "## Q1.b)\n",
    "\n",
    "Generate a data visualization that displays the GPAs of the two groups.\n",
    "Be sure to include a title and label your axes."
   ]
  },
  {
   "cell_type": "code",
   "execution_count": 8,
   "id": "dcb660ab-150b-449b-a25d-29e96010c14d",
   "metadata": {
    "tags": []
   },
   "outputs": [
    {
     "data": {
      "image/png": "[encoded data removed]",
      "text/plain": [
       "plot without title"
      ]
     },
     "metadata": {
      "image/png": {
       "height": 500,
       "width": 625
      }
     },
     "output_type": "display_data"
    }
   ],
   "source": [
    "\n",
    "library(ggplot2)\n",
    "\n",
    "ggplot(sat_gpa, aes(x= sex, y = gpa_fy, fill = sex)) +\n",
    "    geom_boxplot() +\n",
    "    labs (\n",
    "        title = \"First year college GPA by gender\",\n",
    "        x = \"gender\",\n",
    "        y = \"First year GPA\") +\n",
    "    scale_fill_manual(values = c(\"Female\" = \"pink\", \"Male\" = \"blue\")) +\n",
    "    theme_minimal()\n",
    "\n"
   ]
  },
  {
   "cell_type": "markdown",
   "id": "f3a0cc05-c036-4fe3-8c7d-a5dee3db4ec7",
   "metadata": {},
   "source": [
    "## Stating a null hypothesis\n",
    "\n",
    "We will now test the null hypothesis that there’s no difference in\n",
    "population mean GPA between the genders at the population level. We can\n",
    "write this out in mathematical notation\n",
    "\n",
    "$$\\begin{aligned} H_0:&\\mu_{female} = \\mu_{male} \\\\\\ \\mbox{vs }H_A:& \\mu_{female} \\neq \\mu_{male} \\end{aligned}$$\n",
    "\n",
    "or expressed differently, that the difference is 0 or not:\n",
    "\n",
    "$$\\begin{aligned} H_0:&\\mu_{female} - \\mu_{male} = 0 \\\\\\ \\mbox{vs }H_A:& \\mu_{female} - \\mu_{male} \\neq 0 \\end{aligned}$$\n",
    "\n",
    "## Testing the hypothesis\n",
    "\n",
    "Here’s how we use the `infer` package to conduct this hypothesis test:\n",
    "\n",
    "### Step 1: Calculate the observed difference\n",
    "\n",
    "Note that the order we choose does not matter here (female then\n",
    "male)…but since we used `order = c(\"Female\", \"Male\")` here, we should do\n",
    "the same in subsequent calculations!"
   ]
  },
  {
   "cell_type": "code",
   "execution_count": 9,
   "id": "425a7d37-ae9a-43f0-8fff-326ba0d32b91",
   "metadata": {
    "tags": []
   },
   "outputs": [
    {
     "data": {
      "text/html": [
       "<table class=\"dataframe\">\n",
       "<caption>A infer: 1 × 1</caption>\n",
       "<thead>\n",
       "\t<tr><th scope=col>stat</th></tr>\n",
       "\t<tr><th scope=col>&lt;dbl&gt;</th></tr>\n",
       "</thead>\n",
       "<tbody>\n",
       "\t<tr><td>0.1485209</td></tr>\n",
       "</tbody>\n",
       "</table>\n"
      ],
      "text/latex": [
       "A infer: 1 × 1\n",
       "\\begin{tabular}{l}\n",
       " stat\\\\\n",
       " <dbl>\\\\\n",
       "\\hline\n",
       "\t 0.1485209\\\\\n",
       "\\end{tabular}\n"
      ],
      "text/markdown": [
       "\n",
       "A infer: 1 × 1\n",
       "\n",
       "| stat &lt;dbl&gt; |\n",
       "|---|\n",
       "| 0.1485209 |\n",
       "\n"
      ],
      "text/plain": [
       "  stat     \n",
       "1 0.1485209"
      ]
     },
     "metadata": {},
     "output_type": "display_data"
    }
   ],
   "source": [
    "obs_diff_gpa_sex = sat_gpa |>\n",
    "  specify(gpa_fy ~ sex) |>\n",
    "  calculate(stat = \"diff in means\", order = c(\"Female\", \"Male\"))\n",
    "\n",
    "obs_diff_gpa_sex"
   ]
  },
  {
   "cell_type": "markdown",
   "id": "d7ac9575-adf1-416f-9106-b44e784cf6c4",
   "metadata": {},
   "source": [
    "Note that this is the difference in the group means we calculated\n",
    "earlier!"
   ]
  },
  {
   "cell_type": "code",
   "execution_count": 15,
   "id": "84bc94e1-5a73-4184-9e9e-2aeb876d491e",
   "metadata": {
    "tags": []
   },
   "outputs": [
    {
     "data": {
      "text/html": [
       "0.148521"
      ],
      "text/latex": [
       "0.148521"
      ],
      "text/markdown": [
       "0.148521"
      ],
      "text/plain": [
       "[1] 0.148521"
      ]
     },
     "metadata": {},
     "output_type": "display_data"
    }
   ],
   "source": [
    "2.544587 - 2.396066"
   ]
  },
  {
   "cell_type": "markdown",
   "id": "dba4fcc1-4a9b-47ce-a215-a45870f3eb29",
   "metadata": {},
   "source": [
    "### Step 2. Generate the null distribution of $\\delta$\n",
    "\n",
    "This step involves generating simulated values *as if* we lived in a\n",
    "world where there’s no difference between the two groups. Going back to\n",
    "the idea of permutation, and tactile sampling, this is akin to shuffling\n",
    "the GPA scores between male and female labels (i.e. removing the\n",
    "structure to the data) just as we could have done with index cards."
   ]
  },
  {
   "cell_type": "code",
   "execution_count": 10,
   "id": "019aca26-2e52-4b23-bd74-b08ffc3390b0",
   "metadata": {
    "tags": []
   },
   "outputs": [
    {
     "data": {
      "text/html": [
       "<table class=\"dataframe\">\n",
       "<caption>A grouped_df: 6 × 3</caption>\n",
       "<thead>\n",
       "\t<tr><th scope=col>gpa_fy</th><th scope=col>sex</th><th scope=col>replicate</th></tr>\n",
       "\t<tr><th scope=col>&lt;dbl&gt;</th><th scope=col>&lt;fct&gt;</th><th scope=col>&lt;int&gt;</th></tr>\n",
       "</thead>\n",
       "<tbody>\n",
       "\t<tr><td>3.37</td><td>Male  </td><td>1</td></tr>\n",
       "\t<tr><td>1.62</td><td>Female</td><td>1</td></tr>\n",
       "\t<tr><td>2.15</td><td>Female</td><td>1</td></tr>\n",
       "\t<tr><td>2.40</td><td>Male  </td><td>1</td></tr>\n",
       "\t<tr><td>3.19</td><td>Male  </td><td>1</td></tr>\n",
       "\t<tr><td>2.67</td><td>Female</td><td>1</td></tr>\n",
       "</tbody>\n",
       "</table>\n"
      ],
      "text/latex": [
       "A grouped\\_df: 6 × 3\n",
       "\\begin{tabular}{lll}\n",
       " gpa\\_fy & sex & replicate\\\\\n",
       " <dbl> & <fct> & <int>\\\\\n",
       "\\hline\n",
       "\t 3.37 & Male   & 1\\\\\n",
       "\t 1.62 & Female & 1\\\\\n",
       "\t 2.15 & Female & 1\\\\\n",
       "\t 2.40 & Male   & 1\\\\\n",
       "\t 3.19 & Male   & 1\\\\\n",
       "\t 2.67 & Female & 1\\\\\n",
       "\\end{tabular}\n"
      ],
      "text/markdown": [
       "\n",
       "A grouped_df: 6 × 3\n",
       "\n",
       "| gpa_fy &lt;dbl&gt; | sex &lt;fct&gt; | replicate &lt;int&gt; |\n",
       "|---|---|---|\n",
       "| 3.37 | Male   | 1 |\n",
       "| 1.62 | Female | 1 |\n",
       "| 2.15 | Female | 1 |\n",
       "| 2.40 | Male   | 1 |\n",
       "| 3.19 | Male   | 1 |\n",
       "| 2.67 | Female | 1 |\n",
       "\n"
      ],
      "text/plain": [
       "  gpa_fy sex    replicate\n",
       "1 3.37   Male   1        \n",
       "2 1.62   Female 1        \n",
       "3 2.15   Female 1        \n",
       "4 2.40   Male   1        \n",
       "5 3.19   Male   1        \n",
       "6 2.67   Female 1        "
      ]
     },
     "metadata": {},
     "output_type": "display_data"
    }
   ],
   "source": [
    "gpas_in_null_world = sat_gpa |> \n",
    "  specify(gpa_fy ~ sex) |> \n",
    "  hypothesize(null = \"independence\") |>\n",
    "  generate(reps = 5000, type = 'permute')\n",
    "\n",
    "gpas_in_null_world |> head()"
   ]
  },
  {
   "cell_type": "markdown",
   "id": "40981f4a-37a6-40fe-94c0-fbf746219313",
   "metadata": {},
   "source": [
    "## Q1.c)\n",
    "\n",
    "**Question**:\n",
    "\n",
    "1.  What was the size of the “shuffled” (permuted) sample in each run?\n",
    "2.  How many times did we “shuffle” (permute) the sample? How many rows\n",
    "    are in the `gpas_in_null_world` data frame?\n",
    "\n",
    "**Answer:**\n",
    "\n",
    "1.  1000\n",
    "2.  5000000"
   ]
  },
  {
   "cell_type": "code",
   "execution_count": 11,
   "id": "08a1b4f3-e2b4-4df8-a9db-1aaea7b67357",
   "metadata": {
    "tags": []
   },
   "outputs": [
    {
     "data": {
      "text/html": [
       "1000"
      ],
      "text/latex": [
       "1000"
      ],
      "text/markdown": [
       "1000"
      ],
      "text/plain": [
       "[1] 1000"
      ]
     },
     "metadata": {},
     "output_type": "display_data"
    }
   ],
   "source": [
    "# Question 1\n",
    "nrow(sat_gpa)\n"
   ]
  },
  {
   "cell_type": "markdown",
   "id": "f0108986-cc61-43d0-ad83-454bcbbd9a98",
   "metadata": {},
   "source": [
    "Question 1\n",
    "\n",
    "The \"shuffled\" sample size refers to the number of observations included in each permutation. Since we are shuffling the labels (gender) in the sat_gpa dataset, the sample size for each permutation is equal to the original number of observations in sat_gpa."
   ]
  },
  {
   "cell_type": "code",
   "execution_count": 12,
   "id": "9336a47f-0e9d-49bd-b906-8e5b690ee6e7",
   "metadata": {
    "tags": []
   },
   "outputs": [
    {
     "data": {
      "text/html": [
       "5000000"
      ],
      "text/latex": [
       "5000000"
      ],
      "text/markdown": [
       "5000000"
      ],
      "text/plain": [
       "[1] 5000000"
      ]
     },
     "metadata": {},
     "output_type": "display_data"
    }
   ],
   "source": [
    "# Question 2\n",
    "nrow(gpas_in_null_world)"
   ]
  },
  {
   "cell_type": "markdown",
   "id": "cf70969a-926a-41c3-b6fb-43d67f526fd6",
   "metadata": {},
   "source": [
    "Question 2\n",
    "Since each permutation has the same number of rows as the original dataset, \n",
    "the total number of rows in gpas_in_null_world is:\n",
    "number of rows = (sample size) x (number of permutation)\n"
   ]
  },
  {
   "cell_type": "markdown",
   "id": "b2f46fdd-2fe3-4e32-a737-1791484fe11e",
   "metadata": {},
   "source": [
    "### Step 3. Calculate the differences between male and females under the null\n",
    "\n",
    "The following calculates the differences in mean GPA for males and\n",
    "females for “shuffled” (permuted) data."
   ]
  },
  {
   "cell_type": "code",
   "execution_count": 13,
   "id": "81db6467-d867-488f-84de-2c6f8c2f3ebc",
   "metadata": {
    "tags": []
   },
   "outputs": [
    {
     "data": {
      "text/html": [
       "<table class=\"dataframe\">\n",
       "<caption>A infer: 6 × 2</caption>\n",
       "<thead>\n",
       "\t<tr><th scope=col>replicate</th><th scope=col>stat</th></tr>\n",
       "\t<tr><th scope=col>&lt;int&gt;</th><th scope=col>&lt;dbl&gt;</th></tr>\n",
       "</thead>\n",
       "<tbody>\n",
       "\t<tr><td>1</td><td>-0.05200445</td></tr>\n",
       "\t<tr><td>2</td><td>-0.05580835</td></tr>\n",
       "\t<tr><td>3</td><td> 0.04993994</td></tr>\n",
       "\t<tr><td>4</td><td>-0.04844080</td></tr>\n",
       "\t<tr><td>5</td><td> 0.02143075</td></tr>\n",
       "\t<tr><td>6</td><td>-0.05140384</td></tr>\n",
       "</tbody>\n",
       "</table>\n"
      ],
      "text/latex": [
       "A infer: 6 × 2\n",
       "\\begin{tabular}{ll}\n",
       " replicate & stat\\\\\n",
       " <int> & <dbl>\\\\\n",
       "\\hline\n",
       "\t 1 & -0.05200445\\\\\n",
       "\t 2 & -0.05580835\\\\\n",
       "\t 3 &  0.04993994\\\\\n",
       "\t 4 & -0.04844080\\\\\n",
       "\t 5 &  0.02143075\\\\\n",
       "\t 6 & -0.05140384\\\\\n",
       "\\end{tabular}\n"
      ],
      "text/markdown": [
       "\n",
       "A infer: 6 × 2\n",
       "\n",
       "| replicate &lt;int&gt; | stat &lt;dbl&gt; |\n",
       "|---|---|\n",
       "| 1 | -0.05200445 |\n",
       "| 2 | -0.05580835 |\n",
       "| 3 |  0.04993994 |\n",
       "| 4 | -0.04844080 |\n",
       "| 5 |  0.02143075 |\n",
       "| 6 | -0.05140384 |\n",
       "\n"
      ],
      "text/plain": [
       "  replicate stat       \n",
       "1 1         -0.05200445\n",
       "2 2         -0.05580835\n",
       "3 3          0.04993994\n",
       "4 4         -0.04844080\n",
       "5 5          0.02143075\n",
       "6 6         -0.05140384"
      ]
     },
     "metadata": {},
     "output_type": "display_data"
    }
   ],
   "source": [
    "gpa_diff_under_null = gpas_in_null_world |>\n",
    "  calculate(stat = \"diff in means\", order = c(\"Female\", \"Male\")) \n",
    "\n",
    "gpa_diff_under_null |> \n",
    "  head()"
   ]
  },
  {
   "cell_type": "markdown",
   "id": "a518f2cc-360a-47b7-845b-d18bc5c92b59",
   "metadata": {},
   "source": [
    "## Q1.d)\n",
    "\n",
    "**Question**:\n",
    "\n",
    "1.  How many rows are in this data frame? Why?\n",
    "\n",
    "**Answer:**\n",
    "\n",
    "1.  5000"
   ]
  },
  {
   "cell_type": "code",
   "execution_count": 14,
   "id": "28a93465-ddaf-4659-a8c1-99bb730993b8",
   "metadata": {
    "tags": []
   },
   "outputs": [
    {
     "data": {
      "text/html": [
       "5000"
      ],
      "text/latex": [
       "5000"
      ],
      "text/markdown": [
       "5000"
      ],
      "text/plain": [
       "[1] 5000"
      ]
     },
     "metadata": {},
     "output_type": "display_data"
    }
   ],
   "source": [
    "nrow(gpa_diff_under_null)"
   ]
  },
  {
   "cell_type": "markdown",
   "id": "02b9777b-89b6-415a-a7fa-c0cde1bda451",
   "metadata": {},
   "source": [
    "Answer:\n",
    "\n",
    "Each row corresponds to a single permutation (or shuffle) where the GPA scores were randomly reassigned to either gender label, simulating a world where the difference in GPA between genders is zero. This approach generates a distribution of mean differences under the null hypothesis, allowing us to compare our observed difference against this null distribution to assess statistical significance."
   ]
  },
  {
   "cell_type": "markdown",
   "id": "6017b851-4bc1-4dda-a78d-cf93639a6b24",
   "metadata": {},
   "source": [
    "### Step 4. Visualize how the observed difference compares to the null distribution of $\\delta$\n",
    "\n",
    "The following plots the $\\delta$ values we calculated for each of the\n",
    "different “shuffled” replicates. This is the null distribution of\n",
    "$\\delta$. The red line shows the observed difference between male and\n",
    "female scores in the data (-0.1485209) from step 1."
   ]
  },
  {
   "cell_type": "code",
   "execution_count": 15,
   "id": "2a3686c6-4d45-44e4-88eb-c7d14da345c8",
   "metadata": {
    "tags": []
   },
   "outputs": [
    {
     "data": {
      "image/png": "[encoded data removed]",
      "text/plain": [
       "plot without title"
      ]
     },
     "metadata": {
      "image/png": {
       "height": 500,
       "width": 625
      }
     },
     "output_type": "display_data"
    }
   ],
   "source": [
    "visualize(gpa_diff_under_null) +\n",
    "  shade_p_value(obs_stat = obs_diff_gpa_sex, direction = \"both\") +\n",
    "  labs(x = \"Difference in mean GPA for males and females\", y = \"Count\",\n",
    "       title = \"Null distribution of differences in male and female GPAs\",\n",
    "       subtitle = \"Actual difference observed in the data is marked in red\"\n",
    "       )"
   ]
  },
  {
   "cell_type": "markdown",
   "id": "374aae7b-5600-4186-a6e0-f6cd431d88ab",
   "metadata": {},
   "source": [
    "**Note that zero is the center of this null distribution.** The null\n",
    "hypothesis is that there is no difference between males and females in\n",
    "GPA score. In the permutations, zero was the most common difference,\n",
    "because observed GPA values were re-assigned to males and females **at\n",
    "random**. Differences as large as \\~ 0.1 and -0.1 occurred, but much\n",
    "less frequently, because they are just not as likely when structure is\n",
    "removed from the data.\n",
    "\n",
    "### Step 5: Calculate a p-value"
   ]
  },
  {
   "cell_type": "code",
   "execution_count": 16,
   "id": "4145e57b-d098-46ba-96b5-3cb2134247b2",
   "metadata": {
    "tags": []
   },
   "outputs": [
    {
     "data": {
      "text/html": [
       "<table class=\"dataframe\">\n",
       "<caption>A tibble: 1 × 1</caption>\n",
       "<thead>\n",
       "\t<tr><th scope=col>p_value</th></tr>\n",
       "\t<tr><th scope=col>&lt;dbl&gt;</th></tr>\n",
       "</thead>\n",
       "<tbody>\n",
       "\t<tr><td>0.0024</td></tr>\n",
       "</tbody>\n",
       "</table>\n"
      ],
      "text/latex": [
       "A tibble: 1 × 1\n",
       "\\begin{tabular}{l}\n",
       " p\\_value\\\\\n",
       " <dbl>\\\\\n",
       "\\hline\n",
       "\t 0.0024\\\\\n",
       "\\end{tabular}\n"
      ],
      "text/markdown": [
       "\n",
       "A tibble: 1 × 1\n",
       "\n",
       "| p_value &lt;dbl&gt; |\n",
       "|---|\n",
       "| 0.0024 |\n",
       "\n"
      ],
      "text/plain": [
       "  p_value\n",
       "1 0.0024 "
      ]
     },
     "metadata": {},
     "output_type": "display_data"
    }
   ],
   "source": [
    "gpa_diff_under_null %>% \n",
    "  get_pvalue(obs_stat = obs_diff_gpa_sex, direction = \"both\") "
   ]
  },
  {
   "cell_type": "markdown",
   "id": "29a984eb-44a4-42d0-8ab6-64893f85342b",
   "metadata": {},
   "source": [
    "This result indicates that there is a 0.1% chance (very low) chance that\n",
    "we would see a difference of 0.15 in GPA scores between males and\n",
    "females (or a bigger difference) if in fact there was truly no\n",
    "difference between the sexes in GPA scores in the population."
   ]
  },
  {
   "cell_type": "markdown",
   "id": "101373fa-ddee-40ae-8da9-64db35b8c836",
   "metadata": {},
   "source": [
    "## Q1.e)\n",
    "\n",
    "Fill in the blanks below to write up the results & conclusions for this\n",
    "test:\n",
    "\n",
    "The mean GPA scores for females in our sample ($\\bar{x}$ = 2.5446)\n",
    "was greater than that of males ($\\bar{x}$ = 2.3961). This\n",
    "difference **(was/was not)**\\_ statistically significant at\n",
    "$\\alpha = 0.05$, (p = 0.001535). Given this I **(would/would\n",
    "not)** reject the Null hypothesis and conclude that females have\n",
    "higher GPAs than males at the population level.\n",
    "\n"
   ]
  },
  {
   "cell_type": "markdown",
   "id": "979f5833-b767-4fef-9cb5-53d33c4b0b6f",
   "metadata": {},
   "source": [
    "# while filling above, i have made mistakes because of the formate. Here i am writing answers only.\n",
    "\n",
    "Female mean GPA = 2.5446\n",
    "Male meas GPS = 2.3961\n",
    "p = 0.001535\n",
    "females and males\n"
   ]
  },
  {
   "cell_type": "markdown",
   "id": "1b55bbc1-2399-446f-99e0-5e7e6b86045e",
   "metadata": {},
   "source": [
    "### Step 6: Calculate a confidence interval for the difference\n",
    "\n",
    "The following will allow us to calculate a 95% confidence interval for\n",
    "the difference between mean GPA scores for males and females."
   ]
  },
  {
   "cell_type": "code",
   "execution_count": 17,
   "id": "2bf4102e-ddd6-4c31-bc85-1af89fc9578f",
   "metadata": {
    "tags": []
   },
   "outputs": [
    {
     "data": {
      "text/html": [
       "<table class=\"dataframe\">\n",
       "<caption>A tibble: 1 × 2</caption>\n",
       "<thead>\n",
       "\t<tr><th scope=col>lower_ci</th><th scope=col>upper_ci</th></tr>\n",
       "\t<tr><th scope=col>&lt;dbl&gt;</th><th scope=col>&lt;dbl&gt;</th></tr>\n",
       "</thead>\n",
       "<tbody>\n",
       "\t<tr><td>0.0583116</td><td>0.2387604</td></tr>\n",
       "</tbody>\n",
       "</table>\n"
      ],
      "text/latex": [
       "A tibble: 1 × 2\n",
       "\\begin{tabular}{ll}\n",
       " lower\\_ci & upper\\_ci\\\\\n",
       " <dbl> & <dbl>\\\\\n",
       "\\hline\n",
       "\t 0.0583116 & 0.2387604\\\\\n",
       "\\end{tabular}\n"
      ],
      "text/markdown": [
       "\n",
       "A tibble: 1 × 2\n",
       "\n",
       "| lower_ci &lt;dbl&gt; | upper_ci &lt;dbl&gt; |\n",
       "|---|---|\n",
       "| 0.0583116 | 0.2387604 |\n",
       "\n"
      ],
      "text/plain": [
       "  lower_ci  upper_ci \n",
       "1 0.0583116 0.2387604"
      ]
     },
     "metadata": {},
     "output_type": "display_data"
    }
   ],
   "source": [
    "ci_diff_gpa_means <- sat_gpa %>% \n",
    "  specify(gpa_fy ~ sex) %>%\n",
    "  generate(reps = 5000, type = \"bootstrap\") %>% \n",
    "  calculate(stat = \"diff in means\", order = c(\"Female\", \"Male\")) %>% \n",
    "  get_confidence_interval(level = 0.95)\n",
    "\n",
    "ci_diff_gpa_means"
   ]
  },
  {
   "cell_type": "markdown",
   "id": "7da4f60d-050b-4f35-96cd-7d687f2d7974",
   "metadata": {},
   "source": [
    "## Complete all the above tasks with a t-test\n",
    "\n",
    "Note that all the above steps can be done with one line of code **if a\n",
    "slew of assumptions** like normality and equal variance of the groups\n",
    "are met."
   ]
  },
  {
   "cell_type": "code",
   "execution_count": 18,
   "id": "6f5af819-f628-4a53-87c9-326120cebaba",
   "metadata": {
    "tags": []
   },
   "outputs": [
    {
     "data": {
      "text/plain": [
       "\n",
       "\tTwo Sample t-test\n",
       "\n",
       "data:  gpa_fy by sex\n",
       "t = 3.1828, df = 998, p-value = 0.001504\n",
       "alternative hypothesis: true difference in means between group Female and group Male is not equal to 0\n",
       "95 percent confidence interval:\n",
       " 0.05695029 0.24009148\n",
       "sample estimates:\n",
       "mean in group Female   mean in group Male \n",
       "            2.544587             2.396066 \n"
      ]
     },
     "metadata": {},
     "output_type": "display_data"
    }
   ],
   "source": [
    "t.test(gpa_fy ~ sex, var.equal = TRUE, data = sat_gpa)"
   ]
  },
  {
   "cell_type": "markdown",
   "id": "20f078ee-5e58-4dc5-9688-ea5182384428",
   "metadata": {},
   "source": [
    "## Question 2: Relationship between high-school GPA category and Total SAT score?\n",
    "\n",
    "For this analysis `sat_total` is the outcome variable, and `gpa_hs` is\n",
    "the predictor variable, with two levels “low” and “high”. For this\n",
    "question, let’s use a pre-determined $\\alpha$ significance-level of\n",
    "0.10, which is considered a more liberal significance-level than 0.05\n",
    "since p-values will have an easier time being less than $\\alpha$, and\n",
    "thus we are likely to reject the null hypothesis $H_0$ more often.\n",
    "\n",
    "## Exploratory data analysis\n",
    "\n",
    "We can first calculate the mean total SAT score for each group (i.e\n",
    "students with a low and high GPA), using the `group_by` and `summarize`\n",
    "commands from the `dplyr` package."
   ]
  },
  {
   "cell_type": "code",
   "execution_count": 34,
   "id": "cd06ff3f-e2e6-4971-81f7-a1175a915824",
   "metadata": {
    "tags": []
   },
   "outputs": [
    {
     "data": {
      "text/html": [
       "<table class=\"dataframe\">\n",
       "<caption>A tibble: 0 × 2</caption>\n",
       "<thead>\n",
       "\t<tr><th scope=col>gpa_hs</th><th scope=col>sat_total</th></tr>\n",
       "\t<tr><th scope=col>&lt;dbl&gt;</th><th scope=col>&lt;dbl&gt;</th></tr>\n",
       "</thead>\n",
       "<tbody>\n",
       "</tbody>\n",
       "</table>\n"
      ],
      "text/latex": [
       "A tibble: 0 × 2\n",
       "\\begin{tabular}{ll}\n",
       " gpa\\_hs & sat\\_total\\\\\n",
       " <dbl> & <dbl>\\\\\n",
       "\\hline\n",
       "\\end{tabular}\n"
      ],
      "text/markdown": [
       "\n",
       "A tibble: 0 × 2\n",
       "\n",
       "| gpa_hs &lt;dbl&gt; | sat_total &lt;dbl&gt; |\n",
       "|---|---|\n",
       "\n"
      ],
      "text/plain": [
       "     gpa_hs sat_total"
      ]
     },
     "metadata": {},
     "output_type": "display_data"
    }
   ],
   "source": [
    "avg_sat_gpa <- sat_gpa %>% \n",
    "  group_by(gpa_hs) %>% \n",
    "  summarize(sat_total = mean(sat_total))\n",
    "\n",
    "avg_sat_gpa"
   ]
  },
  {
   "cell_type": "markdown",
   "id": "baec68f4-a715-4644-bc40-5b2d4cde9af4",
   "metadata": {},
   "source": [
    "We will next generate a data visualization that displays the total SAT\n",
    "scores of the two groups. Be sure to include a title and label your\n",
    "axes."
   ]
  },
  {
   "cell_type": "code",
   "execution_count": 38,
   "id": "30dd8bf5-c386-43fe-8701-839686656ba2",
   "metadata": {
    "tags": []
   },
   "outputs": [
    {
     "data": {
      "text/html": [
       "<table class=\"dataframe\">\n",
       "<caption>A tibble: 0 × 2</caption>\n",
       "<thead>\n",
       "\t<tr><th scope=col>sex</th><th scope=col>mean_gpa</th></tr>\n",
       "\t<tr><th scope=col>&lt;chr&gt;</th><th scope=col>&lt;dbl&gt;</th></tr>\n",
       "</thead>\n",
       "<tbody>\n",
       "</tbody>\n",
       "</table>\n"
      ],
      "text/latex": [
       "A tibble: 0 × 2\n",
       "\\begin{tabular}{ll}\n",
       " sex & mean\\_gpa\\\\\n",
       " <chr> & <dbl>\\\\\n",
       "\\hline\n",
       "\\end{tabular}\n"
      ],
      "text/markdown": [
       "\n",
       "A tibble: 0 × 2\n",
       "\n",
       "| sex &lt;chr&gt; | mean_gpa &lt;dbl&gt; |\n",
       "|---|---|\n",
       "\n"
      ],
      "text/plain": [
       "     sex mean_gpa"
      ]
     },
     "metadata": {},
     "output_type": "display_data"
    }
   ],
   "source": [
    "mean_gpa_by_sex <- sat_gpa |> \n",
    "  group_by(sex) |> \n",
    "  summarize(mean_gpa = mean(gpa_fy, na.rm = TRUE))\n",
    "mean_gpa_by_sex"
   ]
  },
  {
   "cell_type": "code",
   "execution_count": 42,
   "id": "d5f3de88-8477-4026-b4d2-2fd3a119947d",
   "metadata": {
    "tags": []
   },
   "outputs": [
    {
     "data": {
      "text/html": [
       "<table class=\"dataframe\">\n",
       "<caption>A tibble: 0 × 2</caption>\n",
       "<thead>\n",
       "\t<tr><th scope=col>gpa_hs_group</th><th scope=col>avg_sat_total</th></tr>\n",
       "\t<tr><th scope=col>&lt;lgl&gt;</th><th scope=col>&lt;dbl&gt;</th></tr>\n",
       "</thead>\n",
       "<tbody>\n",
       "</tbody>\n",
       "</table>\n"
      ],
      "text/latex": [
       "A tibble: 0 × 2\n",
       "\\begin{tabular}{ll}\n",
       " gpa\\_hs\\_group & avg\\_sat\\_total\\\\\n",
       " <lgl> & <dbl>\\\\\n",
       "\\hline\n",
       "\\end{tabular}\n"
      ],
      "text/markdown": [
       "\n",
       "A tibble: 0 × 2\n",
       "\n",
       "| gpa_hs_group &lt;lgl&gt; | avg_sat_total &lt;dbl&gt; |\n",
       "|---|---|\n",
       "\n"
      ],
      "text/plain": [
       "     gpa_hs_group avg_sat_total"
      ]
     },
     "metadata": {},
     "output_type": "display_data"
    }
   ],
   "source": [
    "avg_sat_gpa <- sat_gpa %>% \n",
    "  mutate(gpa_hs_group = ifelse(gpa_hs >= median(gpa_hs, na.rm = TRUE), \"High GPA\", \"Low GPA\")) %>%\n",
    "  group_by(gpa_hs_group) %>% \n",
    "  summarize(avg_sat_total = mean(sat_total, na.rm = TRUE))\n",
    "avg_sat_gpa"
   ]
  },
  {
   "cell_type": "code",
   "execution_count": 43,
   "id": "ab1533b1-b2f6-4b1d-9af7-d67b71c102cb",
   "metadata": {
    "tags": []
   },
   "outputs": [
    {
     "name": "stderr",
     "output_type": "stream",
     "text": [
      "Warning message:\n",
      "“\u001b[1m\u001b[22mNo shared levels found between `names(values)` of the manual scale and the\n",
      "data's \u001b[32mfill\u001b[39m values.”\n"
     ]
    },
    {
     "data": {
      "image/png": "[encoded data removed]",
      "text/plain": [
       "plot without title"
      ]
     },
     "metadata": {
      "image/png": {
       "height": 500,
       "width": 625
      }
     },
     "output_type": "display_data"
    }
   ],
   "source": [
    "ggplot(avg_sat_gpa, aes(x = gpa_hs_group, y = avg_sat_total, fill = gpa_hs_group)) +\n",
    "  geom_bar(stat = \"identity\") +\n",
    "  labs(\n",
    "    title = \"Average SAT Scores by High School GPA Groups\",\n",
    "    x = \"GPA Group (High vs Low)\",\n",
    "    y = \"Average Total SAT Score\"\n",
    "  ) +\n",
    "  scale_fill_manual(values = c(\"High GPA\" = \"green\", \"Low GPA\" = \"orange\")) +\n",
    "  theme_minimal()\n",
    "\n"
   ]
  },
  {
   "cell_type": "markdown",
   "id": "4b358e47-3a60-4032-9b29-714180bfd326",
   "metadata": {},
   "source": [
    "## Stating a null hypothesis"
   ]
  },
  {
   "cell_type": "markdown",
   "id": "75b2984d-392a-4d14-8472-4c90cb0139c6",
   "metadata": {},
   "source": [
    "## Q2.a)\n",
    "\n",
    "State the null hypothesis that you are testing (using either words or\n",
    "symbols)\n",
    "\n",
    "**Answer:**\n",
    "\n",
    "1.  There is a difference in total SAT scores between students with a \"low\" high-school GPA and those with a \"high\" high-school GPA.\n",
    "\n",
    "Null Hypothesis\n",
    "\n",
    "The null hypothes is 𝐻0 states that there is no difference in the population mean SAT scores between the two high-school GPA categories (\"low\" and \"high\"). In symbols:\n",
    "\n",
    "    𝐻0 = μlow(GPA) = μhigh(GPA)\n",
    "    \n"
   ]
  },
  {
   "cell_type": "markdown",
   "id": "38f74068-b21f-4212-9047-be54b8f8bbc2",
   "metadata": {},
   "source": [
    "## Testing the hypothesis"
   ]
  },
  {
   "cell_type": "markdown",
   "id": "2c687c67-2f65-4a51-9fbd-d12016c343de",
   "metadata": {},
   "source": [
    "## Q2.b)\n",
    "\n",
    "Calculate the observed difference between the mean total SAT scores of\n",
    "the low and high GPA high-school students."
   ]
  },
  {
   "cell_type": "code",
   "execution_count": 45,
   "id": "872d1b6a-d65d-4c8c-9140-ebda69720131",
   "metadata": {
    "tags": []
   },
   "outputs": [
    {
     "name": "stderr",
     "output_type": "stream",
     "text": [
      "Warning message:\n",
      "“\u001b[1m\u001b[22mReturning more (or less) than 1 row per `summarise()` group was deprecated in\n",
      "dplyr 1.1.0.\n",
      "\u001b[36mℹ\u001b[39m Please use `reframe()` instead.\n",
      "\u001b[36mℹ\u001b[39m When switching from `summarise()` to `reframe()`, remember that `reframe()`\n",
      "  always returns an ungrouped data frame and adjust accordingly.”\n"
     ]
    },
    {
     "data": {
      "text/html": [
       "<table class=\"dataframe\">\n",
       "<caption>A tibble: 0 × 1</caption>\n",
       "<thead>\n",
       "\t<tr><th scope=col>obs_diff</th></tr>\n",
       "\t<tr><th scope=col>&lt;dbl&gt;</th></tr>\n",
       "</thead>\n",
       "<tbody>\n",
       "</tbody>\n",
       "</table>\n"
      ],
      "text/latex": [
       "A tibble: 0 × 1\n",
       "\\begin{tabular}{l}\n",
       " obs\\_diff\\\\\n",
       " <dbl>\\\\\n",
       "\\hline\n",
       "\\end{tabular}\n"
      ],
      "text/markdown": [
       "\n",
       "A tibble: 0 × 1\n",
       "\n",
       "| obs_diff &lt;dbl&gt; |\n",
       "|---|\n",
       "\n"
      ],
      "text/plain": [
       "     obs_diff"
      ]
     },
     "metadata": {},
     "output_type": "display_data"
    }
   ],
   "source": [
    "# Ensure `gpa_hs_group` column is added to the dataset\n",
    "sat_gpa <- sat_gpa %>%\n",
    "  mutate(gpa_hs_group = ifelse(gpa_hs >= median(gpa_hs, na.rm = TRUE), \"High GPA\", \"Low GPA\"))\n",
    "\n",
    "# Calculate mean SAT scores for each GPA group\n",
    "mean_sat_by_gpa_group <- sat_gpa %>%\n",
    "  group_by(gpa_hs_group) %>%\n",
    "  summarize(mean_sat_total = mean(sat_total, na.rm = TRUE))\n",
    "\n",
    "# Calculate the observed difference between High GPA and Low GPA groups\n",
    "obs_diff_sat_total <- mean_sat_by_gpa_group %>%\n",
    "  summarize(obs_diff = mean_sat_total[gpa_hs_group == \"High GPA\"] - mean_sat_total[gpa_hs_group == \"Low GPA\"])\n",
    "\n",
    "obs_diff_sat_total\n"
   ]
  },
  {
   "cell_type": "markdown",
   "id": "1254fef5-6b22-45a0-9f7e-f282f1dfb963",
   "metadata": {},
   "source": [
    "## Q2.c)\n",
    "\n",
    "Generate the null distribution of $\\delta$. Here you need to generate\n",
    "simulated values *as if* we lived in a world where there’s no difference\n",
    "in SAT scores between high school students with low and high GPAs."
   ]
  },
  {
   "cell_type": "code",
   "execution_count": 47,
   "id": "88bf24dd-4fa4-4e2e-b17f-3250aabe1e9d",
   "metadata": {
    "tags": []
   },
   "outputs": [
    {
     "name": "stderr",
     "output_type": "stream",
     "text": [
      "\u001b[1m\u001b[22mDropping unused factor levels c(\"High GPA\", \"Low GPA\") from the supplied\n",
      "explanatory variable 'gpa_hs_group'.\n"
     ]
    },
    {
     "ename": "ERROR",
     "evalue": "Error in `contrasts<-`(`*tmp*`, value = contr.funs[1 + isOF[nn]]): contrasts can be applied only to factors with 2 or more levels\n",
     "output_type": "error",
     "traceback": [
      "Error in `contrasts<-`(`*tmp*`, value = contr.funs[1 + isOF[nn]]): contrasts can be applied only to factors with 2 or more levels\nTraceback:\n",
      "1. sat_gpa %>% specify(sat_total ~ gpa_hs_group) %>% hypothesize(null = \"independence\") %>% \n .     generate(reps = 5000, type = \"permute\") %>% calculate(stat = \"diff in means\", \n .     order = c(\"High GPA\", \"Low GPA\"))",
      "2. calculate(., stat = \"diff in means\", order = c(\"High GPA\", \"Low GPA\"))",
      "3. check_type(x, tibble::is_tibble)",
      "4. isTRUE(predicate(x, ...))",
      "5. predicate(x, ...)",
      "6. generate(., reps = 5000, type = \"permute\")",
      "7. sanitize_generation_type(attr(x, \"type\"))",
      "8. hypothesize(., null = \"independence\")",
      "9. hypothesize_checks(x, null)",
      "10. specify(., sat_total ~ gpa_hs_group)",
      "11. parse_variables(x, formula, response, explanatory)",
      "12. set_params(x)",
      "13. stats::anova(stats::aov(response_variable(x) ~ explanatory_variable(x)))",
      "14. stats::aov(response_variable(x) ~ explanatory_variable(x))",
      "15. eval(lmcall, parent.frame())",
      "16. eval(lmcall, parent.frame())",
      "17. stats::lm(formula = response_variable(x) ~ explanatory_variable(x), \n  .     singular.ok = TRUE)",
      "18. model.matrix(mt, mf, contrasts)",
      "19. model.matrix.default(mt, mf, contrasts)",
      "20. `contrasts<-`(`*tmp*`, value = contr.funs[1 + isOF[nn]])",
      "21. stop(\"contrasts can be applied only to factors with 2 or more levels\")"
     ]
    }
   ],
   "source": [
    "# Ensure `gpa_hs_group` is a factor with two levels: \"High GPA\" and \"Low GPA\"\n",
    "sat_gpa <- sat_gpa %>%\n",
    "  mutate(\n",
    "    gpa_hs_group = ifelse(gpa_hs >= median(gpa_hs, na.rm = TRUE), \"High GPA\", \"Low GPA\"),\n",
    "    gpa_hs_group = factor(gpa_hs_group, levels = c(\"High GPA\", \"Low GPA\"))\n",
    "  )\n",
    "\n",
    "# Generate the null distribution of differences in mean SAT scores\n",
    "sat_null_distribution <- sat_gpa %>%\n",
    "  specify(sat_total ~ gpa_hs_group) %>%\n",
    "  hypothesize(null = \"independence\") %>%\n",
    "  generate(reps = 5000, type = \"permute\") %>%\n",
    "  calculate(stat = \"diff in means\", order = c(\"High GPA\", \"Low GPA\"))\n",
    "\n",
    "# Display the first few rows of the null distribution\n",
    "sat_null_distribution |> head()\n"
   ]
  },
  {
   "cell_type": "code",
   "execution_count": 51,
   "id": "013bd714-8acf-461b-8be7-6f5469712135",
   "metadata": {
    "tags": []
   },
   "outputs": [],
   "source": [
    "sat_gpa <- sat_gpa %>%\n",
    "  filter(gpa_hs %in% c(\"low\", \"high\"))"
   ]
  },
  {
   "cell_type": "markdown",
   "id": "b6242ccf-c8f6-4c81-8b50-a9b97c90ecce",
   "metadata": {},
   "source": [
    "## Q2.d)\n",
    "\n",
    "Calculate the differences in mean SAT scores between students with low\n",
    "and high GPA scores under the Null. Note…you should use whatever order\n",
    "you chose above…i.e. `order = c(\"low\", \"high\")` or\n",
    "`order = c(\"high\", \"low\")`."
   ]
  },
  {
   "cell_type": "code",
   "execution_count": 53,
   "id": "30f2684e-b334-40c1-ac3e-efe078c80ccc",
   "metadata": {
    "tags": []
   },
   "outputs": [
    {
     "ename": "ERROR",
     "evalue": "Error in eval(expr, envir, enclos): object 'sat_null_distribution' not found\n",
     "output_type": "error",
     "traceback": [
      "Error in eval(expr, envir, enclos): object 'sat_null_distribution' not found\nTraceback:\n",
      "1. sat_null_distribution %>% calculate(stat = \"diff in means\", order = c(\"High GPA\", \n .     \"Low GPA\"))",
      "2. calculate(., stat = \"diff in means\", order = c(\"High GPA\", \"Low GPA\"))",
      "3. check_type(x, tibble::is_tibble)",
      "4. isTRUE(predicate(x, ...))",
      "5. predicate(x, ...)"
     ]
    }
   ],
   "source": [
    "# Calculate the differences in mean SAT scores under the null hypothesis\n",
    "gpa_diff_under_null <- sat_null_distribution %>%\n",
    "  calculate(stat = \"diff in means\", order = c(\"High GPA\", \"Low GPA\"))\n",
    "\n",
    "# Display the first few rows of differences under the null\n",
    "gpa_diff_under_null |> head()\n"
   ]
  },
  {
   "cell_type": "markdown",
   "id": "b8b3d56f-73b0-4409-89d0-e51353e62232",
   "metadata": {},
   "source": [
    "## Q2.e)\n",
    "\n",
    "Visualize how the observed difference compares to the null distribution\n",
    "of $\\delta$. Generate a histogram of the null distribution, with a\n",
    "vertical red line showing the observed difference in SAT scores between\n",
    "high school students with a high and low GPA."
   ]
  },
  {
   "cell_type": "code",
   "execution_count": 54,
   "id": "872707c3-f9ea-4298-ab90-dca5b3392502",
   "metadata": {},
   "outputs": [
    {
     "name": "stderr",
     "output_type": "stream",
     "text": [
      "Warning message:\n",
      "“\u001b[1m\u001b[22mRemoved 1 row containing missing values or values outside the scale range\n",
      "(`geom_vline()`).”\n"
     ]
    },
    {
     "data": {
      "image/png": "[encoded data removed]",
      "text/plain": [
       "plot without title"
      ]
     },
     "metadata": {
      "image/png": {
       "height": 500,
       "width": 625
      }
     },
     "output_type": "display_data"
    }
   ],
   "source": [
    "# you finish this code....\n",
    "\n",
    "# sat_diff_under_null %>% \n",
    "# Step 1: Calculate the observed difference in mean SAT scores between high and low GPA groups\n",
    "observed_diff <- sat_gpa %>%\n",
    "  group_by(gpa_hs_group) %>%\n",
    "  summarize(mean_sat_total = mean(sat_total, na.rm = TRUE)) %>%\n",
    "  summarize(obs_diff = mean_sat_total[gpa_hs_group == \"High GPA\"] - mean_sat_total[gpa_hs_group == \"Low GPA\"]) %>%\n",
    "  pull(obs_diff)\n",
    "\n",
    "# Step 2: Plot the null distribution with the observed difference\n",
    "gpa_diff_under_null %>%\n",
    "  ggplot(aes(x = stat)) +\n",
    "  geom_histogram(binwidth = 0.05, fill = \"lightblue\", color = \"black\", alpha = 0.7) +\n",
    "  geom_vline(xintercept = observed_diff, color = \"red\", linetype = \"dashed\", size = 1) +\n",
    "  labs(\n",
    "    title = \"Null Distribution of Differences in Mean SAT Scores\",\n",
    "    subtitle = \"Observed difference in mean SAT scores between high and low GPA groups (red line)\",\n",
    "    x = \"Difference in Mean SAT Scores\",\n",
    "    y = \"Frequency\"\n",
    "  ) +\n",
    "  theme_minimal()\n"
   ]
  },
  {
   "cell_type": "markdown",
   "id": "58038c3f-a9bd-451a-8696-2daac4b75808",
   "metadata": {},
   "source": [
    "## Q2.f)\n",
    "\n",
    "Calculate a p-value"
   ]
  },
  {
   "cell_type": "code",
   "execution_count": 56,
   "id": "89346c0d-bf97-4bea-bd41-0ed83ad5f107",
   "metadata": {},
   "outputs": [
    {
     "ename": "ERROR",
     "evalue": "Error in if (abs(pval) < 1e-16) {: missing value where TRUE/FALSE needed\n",
     "output_type": "error",
     "traceback": [
      "Error in if (abs(pval) < 1e-16) {: missing value where TRUE/FALSE needed\nTraceback:\n",
      "1. gpa_diff_under_null_clean %>% get_pvalue(obs_stat = observed_diff, \n .     direction = \"both\")",
      "2. get_pvalue(., obs_stat = observed_diff, direction = \"both\")",
      "3. get_p_value.default(., obs_stat = observed_diff, direction = \"both\")",
      "4. simulation_based_p_value(x = x, obs_stat = obs_stat, direction = direction)"
     ]
    }
   ],
   "source": [
    "# Remove NA values from the null distribution before calculating the p-value\n",
    "gpa_diff_under_null_clean <- gpa_diff_under_null %>%\n",
    "  filter(!is.na(stat))\n",
    "\n",
    "# Calculate the p-value\n",
    "p_value <- gpa_diff_under_null_clean %>%\n",
    "  get_pvalue(obs_stat = observed_diff, direction = \"both\")\n",
    "\n",
    "# Display the p-value\n",
    "p_value\n"
   ]
  },
  {
   "cell_type": "markdown",
   "id": "b3339778-498f-471d-ae8d-1cd67524f857",
   "metadata": {},
   "source": [
    "## Q2.g)\n",
    "\n",
    "Write up the results & conclusions for this hypothesis test. Note,\n",
    "p-values less than 0.001 are often reported as p \\< 0.001.\n",
    "\n",
    "\n",
    "**Answer:**\n",
    "\n",
    "1.  "
   ]
  },
  {
   "cell_type": "markdown",
   "id": "6128c93b-c595-46cf-9be3-c1b226058ebb",
   "metadata": {},
   "source": [
    "## Q2.h)\n",
    "\n",
    "Calculate a confidence interval for the difference in total SAT scores\n",
    "for students with high and low high-school GPA scores. Note…you should\n",
    "use whatever order you chose above…i.e. `order = c(\"low\", \"high\")` or\n",
    "`order = c(\"high\", \"low\")`."
   ]
  },
  {
   "cell_type": "code",
   "execution_count": 57,
   "id": "433e077c-e842-495c-8902-06dfb338b6dc",
   "metadata": {},
   "outputs": [
    {
     "name": "stderr",
     "output_type": "stream",
     "text": [
      "\u001b[1m\u001b[22mDropping unused factor levels c(\"High GPA\", \"Low GPA\") from the supplied\n",
      "explanatory variable 'gpa_hs_group'.\n"
     ]
    },
    {
     "ename": "ERROR",
     "evalue": "Error in `contrasts<-`(`*tmp*`, value = contr.funs[1 + isOF[nn]]): contrasts can be applied only to factors with 2 or more levels\n",
     "output_type": "error",
     "traceback": [
      "Error in `contrasts<-`(`*tmp*`, value = contr.funs[1 + isOF[nn]]): contrasts can be applied only to factors with 2 or more levels\nTraceback:\n",
      "1. sat_gpa %>% specify(sat_total ~ gpa_hs_group) %>% generate(reps = 5000, \n .     type = \"bootstrap\") %>% calculate(stat = \"diff in means\", \n .     order = c(\"High GPA\", \"Low GPA\")) %>% get_confidence_interval(level = 0.95)",
      "2. get_confidence_interval(., level = 0.95)",
      "3. calculate(., stat = \"diff in means\", order = c(\"High GPA\", \"Low GPA\"))",
      "4. check_type(x, tibble::is_tibble)",
      "5. isTRUE(predicate(x, ...))",
      "6. predicate(x, ...)",
      "7. generate(., reps = 5000, type = \"bootstrap\")",
      "8. sanitize_generation_type(attr(x, \"type\"))",
      "9. specify(., sat_total ~ gpa_hs_group)",
      "10. parse_variables(x, formula, response, explanatory)",
      "11. set_params(x)",
      "12. stats::anova(stats::aov(response_variable(x) ~ explanatory_variable(x)))",
      "13. stats::aov(response_variable(x) ~ explanatory_variable(x))",
      "14. eval(lmcall, parent.frame())",
      "15. eval(lmcall, parent.frame())",
      "16. stats::lm(formula = response_variable(x) ~ explanatory_variable(x), \n  .     singular.ok = TRUE)",
      "17. model.matrix(mt, mf, contrasts)",
      "18. model.matrix.default(mt, mf, contrasts)",
      "19. `contrasts<-`(`*tmp*`, value = contr.funs[1 + isOF[nn]])",
      "20. stop(\"contrasts can be applied only to factors with 2 or more levels\")"
     ]
    }
   ],
   "source": [
    "# you finish this code....\n",
    "\n",
    "# ci_diff_sat_means <- sat_gpa %>% \n",
    "# Calculate a 95% confidence interval for the difference in SAT scores\n",
    "ci_diff_sat_means <- sat_gpa %>% \n",
    "  specify(sat_total ~ gpa_hs_group) %>%\n",
    "  generate(reps = 5000, type = \"bootstrap\") %>% \n",
    "  calculate(stat = \"diff in means\", order = c(\"High GPA\", \"Low GPA\")) %>% \n",
    "  get_confidence_interval(level = 0.95)\n",
    "\n",
    "# Display the confidence interval\n",
    "ci_diff_sat_means\n"
   ]
  },
  {
   "cell_type": "markdown",
   "id": "aec65e59-6fb4-48e7-a6c3-7c725555a98f",
   "metadata": {},
   "source": [
    "## Q2.i)\n",
    "\n",
    "Use a t-test to test the null hypothesis that total SAT scores do not\n",
    "differ between students with high and low high school GPA scores at the\n",
    "population level."
   ]
  },
  {
   "cell_type": "code",
   "execution_count": 58,
   "id": "62a220c8-083d-4bc1-9163-516a88f41787",
   "metadata": {},
   "outputs": [
    {
     "ename": "ERROR",
     "evalue": "Error in t.test.formula(sat_total ~ gpa_hs_group, data = sat_gpa): grouping factor must have exactly 2 levels\n",
     "output_type": "error",
     "traceback": [
      "Error in t.test.formula(sat_total ~ gpa_hs_group, data = sat_gpa): grouping factor must have exactly 2 levels\nTraceback:\n",
      "1. t.test(sat_total ~ gpa_hs_group, data = sat_gpa)",
      "2. t.test.formula(sat_total ~ gpa_hs_group, data = sat_gpa)",
      "3. stop(\"grouping factor must have exactly 2 levels\")"
     ]
    }
   ],
   "source": [
    "\n",
    "# Perform a t-test to compare total SAT scores between high and low GPA groups\n",
    "t_test_results <- t.test(sat_total ~ gpa_hs_group, data = sat_gpa)\n",
    "\n",
    "# Display the results of the t-test\n",
    "t_test_results\n",
    "\n"
   ]
  },
  {
   "cell_type": "code",
   "execution_count": null,
   "id": "006559c7-5d5a-4d3d-a1fb-135c24ce8dbc",
   "metadata": {},
   "outputs": [],
   "source": []
  }
 ],
 "metadata": {
  "kernelspec": {
   "display_name": ".conda-data730:R",
   "language": "R",
   "name": "conda-env-.conda-data730-r"
  },
  "language_info": {
   "codemirror_mode": "r",
   "file_extension": ".r",
   "mimetype": "text/x-r-source",
   "name": "R",
   "pygments_lexer": "r",
   "version": "4.3.3"
  }
 },
 "nbformat": 4,
 "nbformat_minor": 5
}
